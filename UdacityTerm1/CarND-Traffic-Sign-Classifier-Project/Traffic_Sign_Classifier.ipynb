{
 "cells": [
  {
   "cell_type": "markdown",
   "metadata": {},
   "source": [
    "# Self-Driving Car Engineer Nanodegree\n",
    "\n",
    "Please see file named P2Report.pdf in the directory to get details of this submission.\n",
    "\n",
    "## Deep Learning\n",
    "\n",
    "## Project: Build a Traffic Sign Recognition Classifier\n",
    "\n",
    "In this notebook, a template is provided for you to implement your functionality in stages, which is required to successfully complete this project. If additional code is required that cannot be included in the notebook, be sure that the Python code is successfully imported and included in your submission if necessary. \n",
    "\n",
    "> **Note**: Once you have completed all of the code implementations, you need to finalize your work by exporting the iPython Notebook as an HTML document. Before exporting the notebook to html, all of the code cells need to have been run so that reviewers can see the final implementation and output. You can then export the notebook by using the menu above and navigating to  \\n\",\n",
    "    \"**File -> Download as -> HTML (.html)**. Include the finished document along with this notebook as your submission. \n",
    "\n",
    "In addition to implementing code, there is a writeup to complete. The writeup should be completed in a separate file, which can be either a markdown file or a pdf document. There is a [write up template](https://github.com/udacity/CarND-Traffic-Sign-Classifier-Project/blob/master/writeup_template.md) that can be used to guide the writing process. Completing the code template and writeup template will cover all of the [rubric points](https://review.udacity.com/#!/rubrics/481/view) for this project.\n",
    "\n",
    "The [rubric](https://review.udacity.com/#!/rubrics/481/view) contains \"Stand Out Suggestions\" for enhancing the project beyond the minimum requirements. The stand out suggestions are optional. If you decide to pursue the \"stand out suggestions\", you can include the code in this Ipython notebook and also discuss the results in the writeup file.\n",
    "\n",
    "\n",
    ">**Note:** Code and Markdown cells can be executed using the **Shift + Enter** keyboard shortcut. In addition, Markdown cells can be edited by typically double-clicking the cell to enter edit mode."
   ]
  },
  {
   "cell_type": "markdown",
   "metadata": {},
   "source": [
    "---\n",
    "## Step 0: Load The Data"
   ]
  },
  {
   "cell_type": "code",
   "execution_count": 1,
   "metadata": {
    "collapsed": false
   },
   "outputs": [],
   "source": [
    "# Load pickled data\n",
    "import pickle\n",
    "\n",
    "# TODO: Fill this in based on where you saved the training and testing data\n",
    "\n",
    "training_file = 'train.p'\n",
    "testing_file = 'test.p'\n",
    "\n",
    "with open(training_file, mode='rb') as f:\n",
    "    train = pickle.load(f)\n",
    "with open(testing_file, mode='rb') as f:\n",
    "    test = pickle.load(f)\n",
    "    \n",
    "X_train, y_train = train['features'], train['labels']\n",
    "X_test, y_test = test['features'], test['labels']"
   ]
  },
  {
   "cell_type": "markdown",
   "metadata": {},
   "source": [
    "---\n",
    "\n",
    "## Step 1: Dataset Summary & Exploration\n",
    "\n",
    "The pickled data is a dictionary with 4 key/value pairs:\n",
    "\n",
    "- `'features'` is a 4D array containing raw pixel data of the traffic sign images, (num examples, width, height, channels).\n",
    "- `'labels'` is a 1D array containing the label/class id of the traffic sign. The file `signnames.csv` contains id -> name mappings for each id.\n",
    "- `'sizes'` is a list containing tuples, (width, height) representing the the original width and height the image.\n",
    "- `'coords'` is a list containing tuples, (x1, y1, x2, y2) representing coordinates of a bounding box around the sign in the image. **THESE COORDINATES ASSUME THE ORIGINAL IMAGE. THE PICKLED DATA CONTAINS RESIZED VERSIONS (32 by 32) OF THESE IMAGES**\n",
    "\n",
    "Complete the basic data summary below. Use python, numpy and/or pandas methods to calculate the data summary rather than hard coding the results. For example, the [pandas shape method](http://pandas.pydata.org/pandas-docs/stable/generated/pandas.DataFrame.shape.html) might be useful for calculating some of the summary results. "
   ]
  },
  {
   "cell_type": "markdown",
   "metadata": {},
   "source": [
    "### Provide a Basic Summary of the Data Set Using Python, Numpy and/or Pandas"
   ]
  },
  {
   "cell_type": "code",
   "execution_count": 2,
   "metadata": {
    "collapsed": false
   },
   "outputs": [
    {
     "name": "stdout",
     "output_type": "stream",
     "text": [
      "Number of training examples = 39209\n",
      "Number of testing examples = 12630\n",
      "Image data shape = (32, 32, 3)\n",
      "Number of classes = 43\n"
     ]
    }
   ],
   "source": [
    "### Replace each question mark with the appropriate value. \n",
    "### Use python, pandas or numpy methods rather than hard coding the results\n",
    "import numpy\n",
    "# TODO: Number of training examples\n",
    "n_train = X_train.shape[0]\n",
    "\n",
    "# TODO: Number of testing examples.\n",
    "n_test = X_test.shape[0]\n",
    "\n",
    "# TODO: What's the shape of an traffic sign image?\n",
    "image_shape = X_train[0].shape\n",
    "\n",
    "# TODO: How many unique classes/labels there are in the dataset.\n",
    "n_classes = numpy.unique(y_train).shape[0]\n",
    "\n",
    "print(\"Number of training examples =\", n_train)\n",
    "print(\"Number of testing examples =\", n_test)\n",
    "print(\"Image data shape =\", image_shape)\n",
    "print(\"Number of classes =\", n_classes)"
   ]
  },
  {
   "cell_type": "markdown",
   "metadata": {},
   "source": [
    "### Include an exploratory visualization of the dataset"
   ]
  },
  {
   "cell_type": "markdown",
   "metadata": {},
   "source": [
    "Visualize the German Traffic Signs Dataset using the pickled file(s). This is open ended, suggestions include: plotting traffic sign images, plotting the count of each sign, etc.\n",
    "\n",
    "The [Matplotlib](http://matplotlib.org/) [examples](http://matplotlib.org/examples/index.html) and [gallery](http://matplotlib.org/gallery.html) pages are a great resource for doing visualizations in Python.\n",
    "\n",
    "**NOTE:** It's recommended you start with something simple first. If you wish to do more, come back to it after you've completed the rest of the sections."
   ]
  },
  {
   "cell_type": "code",
   "execution_count": 4,
   "metadata": {
    "collapsed": false
   },
   "outputs": [
    {
     "data": {
      "image/png": "[encoded data removed]",
      "text/plain": [
       "<matplotlib.figure.Figure at 0x7f037bc34e80>"
      ]
     },
     "metadata": {},
     "output_type": "display_data"
    },
    {
     "data": {
      "text/plain": [
       "<matplotlib.figure.Figure at 0x7f037bc3e940>"
      ]
     },
     "metadata": {},
     "output_type": "display_data"
    },
    {
     "data": {
      "image/png": "[encoded data removed]",
      "text/plain": [
       "<matplotlib.figure.Figure at 0x7f037e71dd68>"
      ]
     },
     "metadata": {},
     "output_type": "display_data"
    }
   ],
   "source": [
    "### Data exploration visualization code goes here.\n",
    "### Feel free to use as many code cells as needed.\n",
    "import matplotlib.pyplot as plt\n",
    "# Visualizations will be shown in the notebook.\n",
    "%matplotlib inline\n",
    "plt.imshow(X_train[0])\n",
    "plt.figure()\n",
    "import csv\n",
    "import matplotlib.pyplot as plt\n",
    "\n",
    "with open('signnames.csv','r') as f:\n",
    "    creader = csv.reader(f)\n",
    "    names = list(creader)\n",
    "    class_names = [a[1] for a in names[1:]]\n",
    "x = [y_train, y_test]\n",
    "plt.figure(figsize=(20,5))\n",
    "plt.hist(x,n_classes, histtype='bar',stacked=True)\n",
    "plt.legend(['training_data','test_data'])\n",
    "plt.xticks(range(n_classes-1),class_names, rotation='vertical', ha='left')\n",
    "plt.show()"
   ]
  },
  {
   "cell_type": "markdown",
   "metadata": {},
   "source": [
    "----\n",
    "\n",
    "## Step 2: Design and Test a Model Architecture\n",
    "\n",
    "Design and implement a deep learning model that learns to recognize traffic signs. Train and test your model on the [German Traffic Sign Dataset](http://benchmark.ini.rub.de/?section=gtsrb&subsection=dataset).\n",
    "\n",
    "There are various aspects to consider when thinking about this problem:\n",
    "\n",
    "- Neural network architecture\n",
    "- Play around preprocessing techniques (normalization, rgb to grayscale, etc)\n",
    "- Number of examples per label (some have more than others).\n",
    "- Generate fake data.\n",
    "\n",
    "Here is an example of a [published baseline model on this problem](http://yann.lecun.com/exdb/publis/pdf/sermanet-ijcnn-11.pdf). It's not required to be familiar with the approach used in the paper but, it's good practice to try to read papers like these.\n",
    "\n",
    "**NOTE:** The LeNet-5 implementation shown in the [classroom](https://classroom.udacity.com/nanodegrees/nd013/parts/fbf77062-5703-404e-b60c-95b78b2f3f9e/modules/6df7ae49-c61c-4bb2-a23e-6527e69209ec/lessons/601ae704-1035-4287-8b11-e2c2716217ad/concepts/d4aca031-508f-4e0b-b493-e7b706120f81) at the end of the CNN lesson is a solid starting point. You'll have to change the number of classes and possibly the preprocessing, but aside from that it's plug and play!"
   ]
  },
  {
   "cell_type": "code",
   "execution_count": 4,
   "metadata": {
    "collapsed": false
   },
   "outputs": [
    {
     "name": "stdout",
     "output_type": "stream",
     "text": [
      "[[[ 0.30394784]\n",
      "  [ 0.29693804]\n",
      "  [ 0.32829569]\n",
      "  ..., \n",
      "  [ 0.28408   ]\n",
      "  [ 0.26697216]\n",
      "  [ 0.26162902]]\n",
      "\n",
      " [[ 0.32522235]\n",
      "  [ 0.31429098]\n",
      "  [ 0.33724   ]\n",
      "  ..., \n",
      "  [ 0.29862745]\n",
      "  [ 0.29972863]\n",
      "  [ 0.30923843]]\n",
      "\n",
      " [[ 0.31036941]\n",
      "  [ 0.32688902]\n",
      "  [ 0.34788078]\n",
      "  ..., \n",
      "  [ 0.28796392]\n",
      "  [ 0.29215333]\n",
      "  [ 0.30475137]]\n",
      "\n",
      " ..., \n",
      " [[ 0.50170784]\n",
      "  [ 0.4796    ]\n",
      "  [ 0.45217176]\n",
      "  ..., \n",
      "  [ 0.37477412]\n",
      "  [ 0.39243255]\n",
      "  [ 0.39945725]]\n",
      "\n",
      " [[ 0.3664251 ]\n",
      "  [ 0.37708863]\n",
      "  [ 0.33425686]\n",
      "  ..., \n",
      "  [ 0.40586392]\n",
      "  [ 0.42941608]\n",
      "  [ 0.39555843]]\n",
      "\n",
      " [[ 0.33109333]\n",
      "  [ 0.38464902]\n",
      "  [ 0.30597255]\n",
      "  ..., \n",
      "  [ 0.39690471]\n",
      "  [ 0.39046824]\n",
      "  [ 0.37229686]]]\n"
     ]
    },
    {
     "data": {
      "image/png": "[encoded data removed]",
      "text/plain": [
       "<matplotlib.figure.Figure at 0x7f4c506a6588>"
      ]
     },
     "metadata": {},
     "output_type": "display_data"
    }
   ],
   "source": [
    "### Pre-process the Data Set (normalization, grayscale, etc.)\n",
    "### Preprocess the data here. Preprocessing steps could include normalization, converting to grayscale, etc.\n",
    "### Feel free to use as many code cells as needed.\n",
    "from skimage import color\n",
    "netr,h,w,nc = X_train.shape[0], X_train[0].shape[0], X_train[0].shape[1],1\n",
    "X_train_new = numpy.zeros((netr,h,w,nc) )\n",
    "for i in range(netr):\n",
    "    temp = color.rgb2gray(X_train[i]) # size of temp will come out ot be h*c\n",
    "    X_train_new[i] = temp.reshape((h,w,nc))\n",
    "X_train = X_train_new\n",
    "\n",
    "# meanX_train = numpy.mean(X_train, axis = 0)\n",
    "# X_train -= meanX_train\n",
    "# print(X_train_new[6].shape)\n",
    "print(X_train[0])\n",
    "plt.imshow(X_train[3].reshape(h,w), cmap='Greys_r')    \n",
    "\n",
    "\n",
    "nete = X_test.shape[0]\n",
    "X_test_new = numpy.zeros((nete,h,w,nc))\n",
    "for i in range(len(X_test)):\n",
    "    temp = color.rgb2gray(X_test[i])\n",
    "    X_test_new[i] = temp.reshape((h,w,nc))\n",
    "X_test = X_test_new\n",
    "# print(X_test_new[6].shape)\n",
    "# print(X_test.shape)\n",
    "# plt.imshow(X_test[6].reshape(h,w), cmap='Greys_r')    \n",
    "\n",
    "\n",
    "# X_train_new = numpy.zeros((X_train.shape[0],h,w,nc) )\n",
    "# for i in range(len(X_train)):\n",
    "#     temp = color.rgb2gray(X_train[i])\n",
    "#     X_train_new[i] = temp.reshape((h,w,nc))\n",
    "# plt.imshow(X_train_new[6].reshape(h,w), cmap='Greys_r')    \n",
    "# print(X_train_new[0])\n",
    "# temp = color.rgb2gray(X_train[3])\n",
    "\n",
    "# print(X_train_new[0].reshape(h,w))\n",
    "# print(X_train[3].shape)\n",
    "\n",
    "# temp = temp.reshape((X_train[0].shape[0],X_train[0].shape[1],1))\n",
    "# X_train_new[3] = temp\n",
    "# print(temp.shape)\n",
    "# print(X_train_new[3].shape)"
   ]
  },
  {
   "cell_type": "raw",
   "metadata": {},
   "source": [
    "\n"
   ]
  },
  {
   "cell_type": "markdown",
   "metadata": {},
   "source": [
    "Use the code cell (or multiple code cells, if necessary) to implement the first step of your project."
   ]
  },
  {
   "cell_type": "markdown",
   "metadata": {},
   "source": [
    "### Split Data into Training, Validation and Testing Sets"
   ]
  },
  {
   "cell_type": "code",
   "execution_count": 5,
   "metadata": {
    "collapsed": false
   },
   "outputs": [],
   "source": [
    "# trainSet = X_train[0:35000]\n",
    "# valSet = X_train[35001:39208]\n",
    "# testSet = X_test[0:12629]\n",
    "\n",
    "# trainclass = y_train[0:10000]\n",
    "# valclass = y_train[35001:39208]\n",
    "# testclass = y_test[0:12629]\n",
    "\n",
    "# X_train = trainSet\n",
    "# y_train = trainclass\n",
    "\n",
    "# X_validation = valSet\n",
    "# y_validation = valclass\n",
    "\n",
    "# X_test = testSet\n",
    "# y_test = testclass\n",
    "\n",
    "allIndexes = range(n_train)\n",
    "trainingIndexes = numpy.random.choice(n_train,int(0.9*n_train), replace = False)\n",
    "valIndexes = [n for n in allIndexes if n not in trainingIndexes]\n",
    "testIndexes = numpy.random.choice(n_test,int(0.9*n_test), replace = False)\n",
    "\n",
    "trainSet = X_train[trainingIndexes]\n",
    "valSet = X_train[valIndexes]\n",
    "testSet = X_test[testIndexes]\n",
    "\n",
    "trainclass = y_train[trainingIndexes]\n",
    "valclass = y_train[valIndexes]\n",
    "testclass = y_test[testIndexes]\n",
    "\n",
    "X_train = trainSet\n",
    "y_train = trainclass\n",
    "\n",
    "X_validation = valSet\n",
    "y_validation = valclass\n",
    "\n",
    "X_test = testSet\n",
    "y_test = testclass\n",
    "\n",
    "\n",
    "\n",
    "\n",
    "\n",
    "\n",
    "\n"
   ]
  },
  {
   "cell_type": "code",
   "execution_count": 6,
   "metadata": {
    "collapsed": true
   },
   "outputs": [],
   "source": [
    "### Split the data into training/validation/testing sets here.\n",
    "### Feel free to use as many code cells as needed."
   ]
  },
  {
   "cell_type": "markdown",
   "metadata": {},
   "source": [
    "### Model Architecture"
   ]
  },
  {
   "cell_type": "code",
   "execution_count": 7,
   "metadata": {
    "collapsed": false
   },
   "outputs": [],
   "source": [
    "import tensorflow as tf\n",
    "\n",
    "EPOCHS = 50\n",
    "BATCH_SIZE = 128\n",
    "rate = 0.001\n",
    "# above gives 90.2 and 0.4\n",
    "\n",
    "# EPOCHS = 50\n",
    "# BATCH_SIZE = 128\n",
    "# rate = 0.0001\n",
    "# above gives 90.2 and 0.4\n",
    "\n"
   ]
  },
  {
   "cell_type": "code",
   "execution_count": 8,
   "metadata": {
    "collapsed": true
   },
   "outputs": [],
   "source": [
    "### Define your architecture here.\n",
    "### Feel free to use as many code cells as needed.\n",
    "\n",
    "from tensorflow.contrib.layers import flatten\n",
    "\n",
    "def LeNet(x):    \n",
    "    # Arguments used for tf.truncated_normal, randomly defines variables for the weights and biases for each layer\n",
    "    mu = 0\n",
    "    sigma = 0.1\n",
    "    \n",
    "    # SOLUTION: Layer 1: Convolutional. Input = 32x32x1. Output = 28x28x6.\n",
    "    conv1_W = tf.Variable(tf.truncated_normal(shape=(5, 5, 1, 6), mean = mu, stddev = sigma))\n",
    "    conv1_b = tf.Variable(tf.zeros(6))\n",
    "    conv1   = tf.nn.conv2d(x, conv1_W, strides=[1, 1, 1, 1], padding='VALID') + conv1_b\n",
    "\n",
    "    # SOLUTION: Activation.\n",
    "    conv1 = tf.nn.relu(conv1)\n",
    "\n",
    "    # SOLUTION: Pooling. Input = 28x28x6. Output = 14x14x6.\n",
    "    conv1 = tf.nn.max_pool(conv1, ksize=[1, 2, 2, 1], strides=[1, 2, 2, 1], padding='VALID')\n",
    "\n",
    "    # SOLUTION: Layer 2: Convolutional. Output = 10x10x16.\n",
    "    conv2_W = tf.Variable(tf.truncated_normal(shape=(5, 5, 6, 16), mean = mu, stddev = sigma))\n",
    "    conv2_b = tf.Variable(tf.zeros(16))\n",
    "    conv2   = tf.nn.conv2d(conv1, conv2_W, strides=[1, 1, 1, 1], padding='VALID') + conv2_b\n",
    "    \n",
    "    # SOLUTION: Activation.\n",
    "    conv2 = tf.nn.relu(conv2)\n",
    "\n",
    "    # SOLUTION: Pooling. Input = 10x10x16. Output = 5x5x16.\n",
    "    conv2 = tf.nn.max_pool(conv2, ksize=[1, 2, 2, 1], strides=[1, 2, 2, 1], padding='VALID')\n",
    "\n",
    "    # SOLUTION: Flatten. Input = 5x5x16. Output = 400.\n",
    "    fc0   = flatten(conv2)\n",
    "    \n",
    "    # SOLUTION: Layer 3: Fully Connected. Input = 400. Output = 120.\n",
    "    fc1_W = tf.Variable(tf.truncated_normal(shape=(400, 120), mean = mu, stddev = sigma))\n",
    "    fc1_b = tf.Variable(tf.zeros(120))\n",
    "    fc1   = tf.matmul(fc0, fc1_W) + fc1_b\n",
    "    \n",
    "    # SOLUTION: Activation.\n",
    "    fc1    = tf.nn.relu(fc1)\n",
    "\n",
    "    # SOLUTION: Layer 4: Fully Connected. Input = 120. Output = 84.\n",
    "    fc2_W  = tf.Variable(tf.truncated_normal(shape=(120, 84), mean = mu, stddev = sigma))\n",
    "    fc2_b  = tf.Variable(tf.zeros(84))\n",
    "    fc2    = tf.matmul(fc1, fc2_W) + fc2_b\n",
    "    \n",
    "    # SOLUTION: Activation.\n",
    "    fc2    = tf.nn.relu(fc2)\n",
    "\n",
    "    # SOLUTION: Layer 5: Fully Connected. Input = 84. Output = 43.\n",
    "    fc3_W  = tf.Variable(tf.truncated_normal(shape=(84, 43), mean = mu, stddev = sigma))\n",
    "    fc3_b  = tf.Variable(tf.zeros(43))\n",
    "    logits = tf.matmul(fc2, fc3_W) + fc3_b\n",
    "    \n",
    "    return logits"
   ]
  },
  {
   "cell_type": "markdown",
   "metadata": {},
   "source": [
    "### Train, Validate and Test the Model"
   ]
  },
  {
   "cell_type": "markdown",
   "metadata": {},
   "source": [
    "A validation set can be used to assess how well the model is performing. A low accuracy on the training and validation\n",
    "sets imply underfitting. A high accuracy on the test set but low accuracy on the validation set implies overfitting."
   ]
  },
  {
   "cell_type": "code",
   "execution_count": 12,
   "metadata": {
    "collapsed": false,
    "scrolled": true
   },
   "outputs": [
    {
     "name": "stdout",
     "output_type": "stream",
     "text": [
      "Training...\n",
      "\n",
      "EPOCH 1 ...\n",
      "Validation Accuracy = 0.729\n",
      "\n",
      "EPOCH 2 ...\n",
      "Validation Accuracy = 0.864\n",
      "\n",
      "EPOCH 3 ...\n",
      "Validation Accuracy = 0.905\n",
      "\n",
      "EPOCH 4 ...\n",
      "Validation Accuracy = 0.943\n",
      "\n",
      "EPOCH 5 ...\n",
      "Validation Accuracy = 0.944\n",
      "\n",
      "EPOCH 6 ...\n",
      "Validation Accuracy = 0.955\n",
      "\n",
      "EPOCH 7 ...\n",
      "Validation Accuracy = 0.964\n",
      "\n",
      "EPOCH 8 ...\n",
      "Validation Accuracy = 0.966\n",
      "\n",
      "EPOCH 9 ...\n",
      "Validation Accuracy = 0.969\n",
      "\n",
      "EPOCH 10 ...\n",
      "Validation Accuracy = 0.965\n",
      "\n",
      "EPOCH 11 ...\n",
      "Validation Accuracy = 0.973\n",
      "\n",
      "EPOCH 12 ...\n",
      "Validation Accuracy = 0.972\n",
      "\n",
      "EPOCH 13 ...\n",
      "Validation Accuracy = 0.975\n",
      "\n",
      "EPOCH 14 ...\n",
      "Validation Accuracy = 0.979\n",
      "\n",
      "EPOCH 15 ...\n",
      "Validation Accuracy = 0.977\n",
      "\n",
      "EPOCH 16 ...\n",
      "Validation Accuracy = 0.978\n",
      "\n",
      "EPOCH 17 ...\n",
      "Validation Accuracy = 0.979\n",
      "\n",
      "EPOCH 18 ...\n",
      "Validation Accuracy = 0.973\n",
      "\n",
      "EPOCH 19 ...\n",
      "Validation Accuracy = 0.972\n",
      "\n",
      "EPOCH 20 ...\n",
      "Validation Accuracy = 0.982\n",
      "\n",
      "EPOCH 21 ...\n",
      "Validation Accuracy = 0.980\n",
      "\n",
      "EPOCH 22 ...\n",
      "Validation Accuracy = 0.981\n",
      "\n",
      "EPOCH 23 ...\n",
      "Validation Accuracy = 0.982\n",
      "\n",
      "EPOCH 24 ...\n",
      "Validation Accuracy = 0.978\n",
      "\n",
      "EPOCH 25 ...\n",
      "Validation Accuracy = 0.982\n",
      "\n",
      "EPOCH 26 ...\n",
      "Validation Accuracy = 0.984\n",
      "\n",
      "EPOCH 27 ...\n",
      "Validation Accuracy = 0.988\n",
      "\n",
      "EPOCH 28 ...\n",
      "Validation Accuracy = 0.982\n",
      "\n",
      "EPOCH 29 ...\n",
      "Validation Accuracy = 0.978\n",
      "\n",
      "EPOCH 30 ...\n",
      "Validation Accuracy = 0.983\n",
      "\n",
      "EPOCH 31 ...\n",
      "Validation Accuracy = 0.985\n",
      "\n",
      "EPOCH 32 ...\n",
      "Validation Accuracy = 0.987\n",
      "\n",
      "EPOCH 33 ...\n",
      "Validation Accuracy = 0.986\n",
      "\n",
      "EPOCH 34 ...\n",
      "Validation Accuracy = 0.988\n",
      "\n",
      "EPOCH 35 ...\n",
      "Validation Accuracy = 0.988\n",
      "\n",
      "EPOCH 36 ...\n",
      "Validation Accuracy = 0.978\n",
      "\n",
      "EPOCH 37 ...\n",
      "Validation Accuracy = 0.985\n",
      "\n",
      "EPOCH 38 ...\n",
      "Validation Accuracy = 0.987\n",
      "\n",
      "EPOCH 39 ...\n",
      "Validation Accuracy = 0.979\n",
      "\n",
      "EPOCH 40 ...\n",
      "Validation Accuracy = 0.987\n",
      "\n",
      "EPOCH 41 ...\n",
      "Validation Accuracy = 0.986\n",
      "\n",
      "EPOCH 42 ...\n",
      "Validation Accuracy = 0.989\n",
      "\n",
      "EPOCH 43 ...\n",
      "Validation Accuracy = 0.989\n",
      "\n",
      "EPOCH 44 ...\n",
      "Validation Accuracy = 0.989\n",
      "\n",
      "EPOCH 45 ...\n",
      "Validation Accuracy = 0.985\n",
      "\n",
      "EPOCH 46 ...\n",
      "Validation Accuracy = 0.987\n",
      "\n",
      "EPOCH 47 ...\n",
      "Validation Accuracy = 0.989\n",
      "\n",
      "EPOCH 48 ...\n",
      "Validation Accuracy = 0.984\n",
      "\n",
      "EPOCH 49 ...\n",
      "Validation Accuracy = 0.983\n",
      "\n",
      "EPOCH 50 ...\n",
      "Validation Accuracy = 0.987\n",
      "\n",
      "Model saved\n",
      "Test Accuracy = 0.921\n"
     ]
    }
   ],
   "source": [
    "### Train your model here.\n",
    "### Calculate and report the accuracy on the training and validation set.\n",
    "### Once afrom sklearn.utils import shuffle final model architecture is selected, \n",
    "### the accuracy on the test set should be calculated and reported as well.\n",
    "### Feel free to use as many code cells as needed.\n",
    "from sklearn.utils import shuffle\n",
    "\n",
    "x = tf.placeholder(tf.float32, (None, 32, 32, 1))\n",
    "y = tf.placeholder(tf.int32, (None))\n",
    "one_hot_y = tf.one_hot(y, n_classes)\n",
    "\n",
    "logits = LeNet(x)\n",
    "cross_entropy = tf.nn.softmax_cross_entropy_with_logits(logits=logits, labels=one_hot_y)\n",
    "loss_operation = tf.reduce_mean(cross_entropy)\n",
    "optimizer = tf.train.AdamOptimizer(learning_rate = rate)\n",
    "training_operation = optimizer.minimize(loss_operation)\n",
    "\n",
    "correct_prediction = tf.equal(tf.argmax(logits, 1), tf.argmax(one_hot_y, 1))\n",
    "accuracy_operation = tf.reduce_mean(tf.cast(correct_prediction, tf.float32))\n",
    "saver = tf.train.Saver()\n",
    "\n",
    "def evaluate(X_data, y_data):\n",
    "    num_examples = len(X_data)\n",
    "    total_accuracy = 0\n",
    "    sess = tf.get_default_session()\n",
    "    for offset in range(0, num_examples, BATCH_SIZE):\n",
    "        batch_x, batch_y = X_data[offset:offset+BATCH_SIZE], y_data[offset:offset+BATCH_SIZE]\n",
    "        accuracy = sess.run(accuracy_operation, feed_dict={x: batch_x, y: batch_y})\n",
    "        total_accuracy += (accuracy * len(batch_x))\n",
    "    return total_accuracy / num_examples\n",
    "\n",
    "\n",
    "with tf.Session() as sess:\n",
    "    sess.run(tf.global_variables_initializer())\n",
    "    num_examples = len(X_train)\n",
    "    \n",
    "    print(\"Training...\")\n",
    "    print()\n",
    "    for i in range(EPOCHS):\n",
    "        X_train, y_train = shuffle(X_train, y_train)\n",
    "        for offset in range(0, num_examples, BATCH_SIZE):\n",
    "            end = offset + BATCH_SIZE\n",
    "            batch_x, batch_y = X_train[offset:end], y_train[offset:end]\n",
    "            sess.run(training_operation, feed_dict={x: batch_x, y: batch_y})\n",
    "            \n",
    "        validation_accuracy = evaluate(X_validation, y_validation)\n",
    "        print(\"EPOCH {} ...\".format(i+1))\n",
    "        print(\"Validation Accuracy = {:.3f}\".format(validation_accuracy))\n",
    "        print()\n",
    "        \n",
    "    saver.save(sess, './lenet')\n",
    "    print(\"Model saved\")\n",
    "\n",
    "with tf.Session() as sess:\n",
    "    saver.restore(sess, tf.train.latest_checkpoint('.'))\n",
    "\n",
    "    test_accuracy = evaluate(X_test, y_test)\n",
    "    print(\"Test Accuracy = {:.3f}\".format(test_accuracy))"
   ]
  },
  {
   "cell_type": "markdown",
   "metadata": {},
   "source": [
    "---\n",
    "\n",
    "## Step 3: Test a Model on New Images\n",
    "\n",
    "To give yourself more insight into how your model is working, download at least five pictures of German traffic signs from the web and use your model to predict the traffic sign type.\n",
    "\n",
    "You may find `signnames.csv` useful as it contains mappings from the class id (integer) to the actual sign name."
   ]
  },
  {
   "cell_type": "markdown",
   "metadata": {},
   "source": [
    "### Load and Output the Images"
   ]
  },
  {
   "cell_type": "code",
   "execution_count": 13,
   "metadata": {
    "collapsed": false
   },
   "outputs": [],
   "source": [
    "### Load the images and plot them here.\n",
    "### Feel free to use as many code cells as needed.\n",
    "## https://en.wikipedia.org/wiki/Road_signs_in_Germany\n",
    "import tensorflow as tf\n",
    "from skimage import io\n",
    "from skimage import color\n",
    "import numpy as np\n",
    "import matplotlib.pyplot as plt\n",
    "\n",
    "\n",
    "# keep60 = io.imread('Images/keep60.png')\n",
    "# plt.imshow(keep60)\n",
    "\n",
    "#  = io.imread('Images/keep-right-arrow-sign-x-r4-7b.png')\n",
    "# NoVehicles = io.imread('Images/NoVehicles.png')\n",
    "# stop = io.imread('Images/stop.jpg')\n",
    "# TrafficSignals = io.imread('Images/TrafficSignals.png')\n",
    "# data = [keep60,keepRight, NoVehicles, stop, TrafficSignals]\n",
    "\n",
    "# import PIL\n",
    "# from PIL import Image\n",
    "# im = Image.open('Images/keep60.png').convert(\"L\")\n",
    "# im = im.resize((33,33))\n",
    "# im.show()\n",
    "# keep60 = list(im.getdata())\n",
    "# data = np.array(keep60).reshape(33,33)\n",
    "# # print(len(keep60))\n",
    "# # data = list(np.asarray(im))\n",
    "# # print(data)\n",
    "# plt.imshow(data)\n",
    "\n",
    "\n",
    "# import PIL\n",
    "# from PIL import Image\n",
    "# im = Image.open('Images/keep60.png').convert(\"L\")\n",
    "# im = im.resize((33,33))\n",
    "# data = np.asarray(im)\n",
    "# plt.imshow(data)\n",
    "\n",
    "\n",
    "import PIL\n",
    "from PIL import Image\n",
    "im1 = Image.open('Images/keep60.png').convert(\"L\")\n",
    "im2 = Image.open('Images/NoVehicles.png').convert(\"L\")\n",
    "im3 = Image.open('Images/stop.jpg').convert(\"L\")\n",
    "im4 = Image.open('Images/TrafficSignals.png').convert(\"L\")\n",
    "im5 = Image.open('Images/TurnAheadLeft.png').convert(\"L\")\n",
    "\n",
    "im1 = im1.resize((32,32))\n",
    "im2 = im2.resize((32,32))\n",
    "im3 = im3.resize((32,32))\n",
    "im4 = im4.resize((32,32))\n",
    "im5 = im5.resize((32,32))\n",
    "\n",
    "# plt.imshow(im3,cmap='Greys_r')\n",
    "\n",
    "im1 = np.asarray(im1).reshape(32,32,1)\n",
    "im2 = np.asarray(im2).reshape(32,32,1)\n",
    "im3 = np.asarray(im3).reshape(32,32,1)\n",
    "im4 = np.asarray(im4).reshape(32,32,1)\n",
    "im5 = np.asarray(im5).reshape(32,32,1)\n",
    "\n",
    "data = np.array([im1,im2,im3,im4,im5])\n",
    "data = data/255.0\n",
    "\n",
    "X_test = data\n",
    "y_test= [3,15,14,26,34]\n",
    "\n",
    "\n",
    "\n",
    "\n",
    "    "
   ]
  },
  {
   "cell_type": "markdown",
   "metadata": {},
   "source": [
    "### Predict the Sign Type for Each Image\n",
    "import pandas as pd\n",
    "sign_names = pd.read_csv('signnames.csv')\n",
    "with tf.Session() as sess:\n",
    "    saver.restore(sess, tf.train.latest_checkpoint('.'))\n",
    "    output = sess.run(logits, feed_dict={x: X_test})\n",
    "    for input_im_ind in range(output.shape[0]):\n",
    "        inds = np.argsort(output)[input_im_ind, :]\n",
    "        print(\"Image\", input_im_ind)\n",
    "        for i in range(5):\n",
    "            print(\"%s: %.3f\" % (sign_names.ix[inds[-1 - i]], output[input_im_ind, inds[-1 - i]]))\n",
    "        print()"
   ]
  },
  {
   "cell_type": "code",
   "execution_count": 14,
   "metadata": {
    "collapsed": true
   },
   "outputs": [],
   "source": [
    "### Run the predictions here and use the model to output the prediction for each image.\n",
    "### Make sure to pre-process the images with the same pre-processing pipeline used earlier.\n",
    "### Feel free to use as many code cells as needed."
   ]
  },
  {
   "cell_type": "markdown",
   "metadata": {},
   "source": [
    "### Analyze Performance"
   ]
  },
  {
   "cell_type": "code",
   "execution_count": 15,
   "metadata": {
    "collapsed": false
   },
   "outputs": [
    {
     "name": "stdout",
     "output_type": "stream",
     "text": [
      "Image 0\n",
      "Speed limit (30km/h): 61.069\n",
      "Speed limit (50km/h): 40.985\n",
      "End of speed limit (80km/h): 22.311\n",
      "Keep right: 17.732\n",
      "Speed limit (60km/h): 5.368\n",
      "\n",
      "Image 1\n",
      "Keep right: 7.894\n",
      "Roundabout mandatory: 6.179\n",
      "Speed limit (50km/h): 5.773\n",
      "No vehicles: 3.199\n",
      "Stop: -0.369\n",
      "\n",
      "Image 2\n",
      "No passing: 41.998\n",
      "No passing for vehicles over 3.5 metric tons: 22.202\n",
      "Priority road: 11.422\n",
      "Speed limit (60km/h): 0.206\n",
      "Speed limit (100km/h): -1.020\n",
      "\n",
      "Image 3\n",
      "General caution: 59.935\n",
      "Traffic signals: 39.186\n",
      "Go straight or left: 29.639\n",
      "Keep right: 13.960\n",
      "Road work: 3.872\n",
      "\n",
      "Image 4\n",
      "Turn left ahead: 49.111\n",
      "Keep right: 34.896\n",
      "Yield: 21.096\n",
      "Traffic signals: 12.418\n",
      "Ahead only: 10.963\n",
      "\n",
      "Test Accuracy = 0.200\n"
     ]
    }
   ],
   "source": [
    "### Calculate the accuracy for these 5 new images. \n",
    "### For example, if the model predicted 1 out of 5 signs correctly, it's 20% accurate on these new images.\n",
    "import pandas as pd\n",
    "sign_names = pd.read_csv('signnames.csv')\n",
    "\n",
    "with tf.Session() as sess:\n",
    "    saver.restore(sess, tf.train.latest_checkpoint('.'))\n",
    "    output = sess.run(logits, feed_dict={x: X_test})\n",
    "\n",
    "# Print Output\n",
    "    for input_im_ind in range(output.shape[0]):\n",
    "        inds = np.argsort(output)[input_im_ind, :]\n",
    "        print(\"Image\", input_im_ind)\n",
    "        for i in range(5):\n",
    "            print(\"%s: %.3f\" % (sign_names.ix[inds[-1 - i]][1], output[input_im_ind, inds[-1 - i]]))\n",
    "        print()\n",
    "        \n",
    "    test_accuracy = evaluate(X_test, y_test)\n",
    "    print(\"Test Accuracy = {:.3f}\".format(test_accuracy))"
   ]
  },
  {
   "cell_type": "markdown",
   "metadata": {},
   "source": [
    "### Output Top 5 Softmax Probabilities For Each Image Found on the Web"
   ]
  },
  {
   "cell_type": "markdown",
   "metadata": {},
   "source": [
    "For each of the new images, print out the model's softmax probabilities to show the **certainty** of the model's predictions (limit the output to the top 5 probabilities for each image). [`tf.nn.top_k`](https://www.tensorflow.org/versions/r0.12/api_docs/python/nn.html#top_k) could prove helpful here. \n",
    "\n",
    "The example below demonstrates how tf.nn.top_k can be used to find the top k predictions for each image.\n",
    "\n",
    "`tf.nn.top_k` will return the values and indices (class ids) of the top k predictions. So if k=3, for each sign, it'll return the 3 largest probabilities (out of a possible 43) and the correspoding class ids.\n",
    "\n",
    "Take this numpy array as an example. The values in the array represent predictions. The array contains softmax probabilities for five candidate images with six possible classes. `tk.nn.top_k` is used to choose the three classes with the highest probability:\n",
    "\n",
    "```\n",
    "# (5, 6) array\n",
    "a = np.array([[ 0.24879643,  0.07032244,  0.12641572,  0.34763842,  0.07893497,\n",
    "         0.12789202],\n",
    "       [ 0.28086119,  0.27569815,  0.08594638,  0.0178669 ,  0.18063401,\n",
    "         0.15899337],\n",
    "       [ 0.26076848,  0.23664738,  0.08020603,  0.07001922,  0.1134371 ,\n",
    "         0.23892179],\n",
    "       [ 0.11943333,  0.29198961,  0.02605103,  0.26234032,  0.1351348 ,\n",
    "         0.16505091],\n",
    "       [ 0.09561176,  0.34396535,  0.0643941 ,  0.16240774,  0.24206137,\n",
    "         0.09155967]])\n",
    "```\n",
    "\n",
    "Running it through `sess.run(tf.nn.top_k(tf.constant(a), k=3))` produces:\n",
    "\n",
    "```\n",
    "TopKV2(values=array([[ 0.34763842,  0.24879643,  0.12789202],\n",
    "       [ 0.28086119,  0.27569815,  0.18063401],\n",
    "       [ 0.26076848,  0.23892179,  0.23664738],\n",
    "       [ 0.29198961,  0.26234032,  0.16505091],\n",
    "       [ 0.34396535,  0.24206137,  0.16240774]]), indices=array([[3, 0, 5],\n",
    "       [0, 1, 4],\n",
    "       [0, 5, 1],\n",
    "       [1, 3, 5],\n",
    "       [1, 4, 3]], dtype=int32))\n",
    "```\n",
    "\n",
    "Looking just at the first row we get `[ 0.34763842,  0.24879643,  0.12789202]`, you can confirm these are the 3 largest probabilities in `a`. You'll also notice `[3, 0, 5]` are the corresponding indices."
   ]
  },
  {
   "cell_type": "code",
   "execution_count": null,
   "metadata": {
    "collapsed": true
   },
   "outputs": [],
   "source": [
    "### Print out the top five softmax probabilities for the predictions on the German traffic sign images found on the web. \n",
    "### Feel free to use as many code cells as needed.\n",
    "\n"
   ]
  },
  {
   "cell_type": "markdown",
   "metadata": {},
   "source": [
    "> **Note**: Once you have completed all of the code implementations, you need to finalize your work by exporting the IPython Notebook as an HTML document. Before exporting the notebook to html, all of the code cells need to have been run. You can then export the notebook by using the menu above and navigating to  \\n\",\n",
    "    \"**File -> Download as -> HTML (.html)**. Include the finished document along with this notebook as your submission. "
   ]
  },
  {
   "cell_type": "markdown",
   "metadata": {},
   "source": [
    "### Project Writeup\n",
    "\n",
    "Once you have completed the code implementation, document your results in a project writeup using this [template](https://github.com/udacity/CarND-Traffic-Sign-Classifier-Project/blob/master/writeup_template.md) as a guide. The writeup can be in a markdown or pdf file. "
   ]
  }
 ],
 "metadata": {
  "anaconda-cloud": {},
  "kernelspec": {
   "display_name": "Python 3",
   "language": "python",
   "name": "python3"
  },
  "language_info": {
   "codemirror_mode": {
    "name": "ipython",
    "version": 3
   },
   "file_extension": ".py",
   "mimetype": "text/x-python",
   "name": "python",
   "nbconvert_exporter": "python",
   "pygments_lexer": "ipython3",
   "version": "3.6.0"
  }
 },
 "nbformat": 4,
 "nbformat_minor": 1
}
